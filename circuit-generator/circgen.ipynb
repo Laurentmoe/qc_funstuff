{
 "cells": [
  {
   "cell_type": "code",
   "execution_count": null,
   "metadata": {},
   "outputs": [],
   "source": [
    "import numpy as np\n",
    "import matplotlib.pyplot as plt\n",
    "from qiskit import QuantumCircuit"
   ]
  },
  {
   "cell_type": "code",
   "execution_count": null,
   "metadata": {},
   "outputs": [],
   "source": [
    "# Taking the Input\n",
    "userinput=input(\"Give me a binary number\")\n",
    "# Verify the input\n",
    "while True:\n",
    "    if(userinput.count('0')+userinput.count('1')==len(userinput)):\n",
    "        liste=userinput.split()\n",
    "        break\n",
    "    else:\n",
    "        print(\"Binary only\")\n",
    "        break    "
   ]
  },
  {
   "cell_type": "code",
   "execution_count": null,
   "metadata": {},
   "outputs": [],
   "source": [
    "# Preparing everything\n",
    "qubits = len(userinput)\n",
    "UserList=list(str(userinput))\n",
    "\n",
    "# Defining the circuit\n",
    "qc = QuantumCircuit(qubits)\n",
    "for i in range(qubits):\n",
    "    if int(UserList[i])==1:\n",
    "        qc.x(i)\n",
    "    else:\n",
    "        continue"
   ]
  },
  {
   "cell_type": "code",
   "execution_count": null,
   "metadata": {},
   "outputs": [],
   "source": [
    "qc.draw()"
   ]
  }
 ],
 "metadata": {
  "kernelspec": {
   "display_name": "Python 3",
   "language": "python",
   "name": "python3"
  },
  "language_info": {
   "codemirror_mode": {
    "name": "ipython",
    "version": 3
   },
   "file_extension": ".py",
   "mimetype": "text/x-python",
   "name": "python",
   "nbconvert_exporter": "python",
   "pygments_lexer": "ipython3",
   "version": "3.8.10"
  }
 },
 "nbformat": 4,
 "nbformat_minor": 4
}
